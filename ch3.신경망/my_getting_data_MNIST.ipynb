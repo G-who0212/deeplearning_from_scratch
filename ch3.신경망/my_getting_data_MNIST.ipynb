{
 "cells": [
  {
   "cell_type": "code",
   "execution_count": 1,
   "id": "93d30c23",
   "metadata": {},
   "outputs": [],
   "source": [
    "import sys, os"
   ]
  },
  {
   "cell_type": "code",
   "execution_count": 2,
   "id": "b5c512ad",
   "metadata": {},
   "outputs": [],
   "source": [
    "sys.path.append(os.pardir) # 부모 디렉토리를 가져올 수 있도록 설정함"
   ]
  },
  {
   "cell_type": "code",
   "execution_count": 3,
   "id": "72ab249b",
   "metadata": {},
   "outputs": [],
   "source": [
    "from dataset.mnist import load_mnist # 부모 디렉토리의 dataset 폴더의 mnist파일에서 load_mnist함수를 가져온다."
   ]
  },
  {
   "cell_type": "code",
   "execution_count": 22,
   "id": "cfc0645f",
   "metadata": {},
   "outputs": [],
   "source": [
    "(x_train, t_train), (x_test, t_test) = load_mnist(flatten=False, normalize=False) # flatten = False"
   ]
  },
  {
   "cell_type": "code",
   "execution_count": 23,
   "id": "57c2ec8c",
   "metadata": {},
   "outputs": [
    {
     "name": "stdout",
     "output_type": "stream",
     "text": [
      "(60000, 1, 28, 28)\n",
      "(60000,)\n",
      "(10000, 1, 28, 28)\n",
      "(10000,)\n"
     ]
    }
   ],
   "source": [
    "print(x_train.shape) # Image Size : 28 X 28 / 흑백 : 1 channel / 60000개의 train image\n",
    "print(t_train.shape) # 60000 개의 Image => 60000개의 labels\n",
    "print(x_test.shape)  # Image Size : 28 X 28 / 흑백 : 1 channel / 10000개의 train image\n",
    "print(t_test.shape)  # 10000 개의 Image => 10000개의 labels"
   ]
  },
  {
   "cell_type": "code",
   "execution_count": 26,
   "id": "786d0652",
   "metadata": {},
   "outputs": [],
   "source": [
    "(x_train, t_train), (x_test, t_test) = load_mnist(flatten=True, normalize=False) # flatten = True"
   ]
  },
  {
   "cell_type": "code",
   "execution_count": 27,
   "id": "6bd18bdc",
   "metadata": {},
   "outputs": [
    {
     "name": "stdout",
     "output_type": "stream",
     "text": [
      "(60000, 784)\n",
      "(60000,)\n",
      "(10000, 784)\n",
      "(10000,)\n"
     ]
    }
   ],
   "source": [
    "# 28 * 28 = 784\n",
    "print(x_train.shape) # Image Size : 28 X 28 / 흑백 : 1 channel / 60000개의 train image\n",
    "print(t_train.shape) # 60000 개의 Image => 60000개의 labels\n",
    "print(x_test.shape)  # Image Size : 28 X 28 / 흑백 : 1 channel / 10000개의 train image\n",
    "print(t_test.shape)  # 10000 개의 Image => 10000개의 labels"
   ]
  }
 ],
 "metadata": {
  "kernelspec": {
   "display_name": "Python 3 (ipykernel)",
   "language": "python",
   "name": "python3"
  },
  "language_info": {
   "codemirror_mode": {
    "name": "ipython",
    "version": 3
   },
   "file_extension": ".py",
   "mimetype": "text/x-python",
   "name": "python",
   "nbconvert_exporter": "python",
   "pygments_lexer": "ipython3",
   "version": "3.9.13"
  }
 },
 "nbformat": 4,
 "nbformat_minor": 5
}
