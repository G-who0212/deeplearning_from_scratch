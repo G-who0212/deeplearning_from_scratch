{
 "cells": [
  {
   "cell_type": "markdown",
   "id": "c9a1c988",
   "metadata": {},
   "source": [
    "오차제곱합 sum of squares for error"
   ]
  },
  {
   "cell_type": "code",
   "execution_count": null,
   "id": "861af888",
   "metadata": {},
   "outputs": [],
   "source": [
    "def sum_squares_error(x):\n",
    "    return "
   ]
  },
  {
   "cell_type": "code",
   "execution_count": 2,
   "id": "20fc3f92",
   "metadata": {},
   "outputs": [],
   "source": [
    "# 정답은 2\n",
    "t = [0, 0, 1, 0, 0, 0, 0, 0, 0, 0] # one-hot-encoding"
   ]
  },
  {
   "cell_type": "code",
   "execution_count": 3,
   "id": "fb6324d1",
   "metadata": {},
   "outputs": [],
   "source": [
    "y = [0.1, 0.05, 0.6, 0.0, 0.5, 0.1, 0.0, 0.1, 0.0, 0.0] # softmax / predicted that the answer is index 2"
   ]
  },
  {
   "cell_type": "code",
   "execution_count": null,
   "id": "be848c1d",
   "metadata": {},
   "outputs": [],
   "source": []
  }
 ],
 "metadata": {
  "kernelspec": {
   "display_name": "Python 3 (ipykernel)",
   "language": "python",
   "name": "python3"
  },
  "language_info": {
   "codemirror_mode": {
    "name": "ipython",
    "version": 3
   },
   "file_extension": ".py",
   "mimetype": "text/x-python",
   "name": "python",
   "nbconvert_exporter": "python",
   "pygments_lexer": "ipython3",
   "version": "3.9.13"
  }
 },
 "nbformat": 4,
 "nbformat_minor": 5
}
