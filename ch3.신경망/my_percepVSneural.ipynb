{
 "cells": [
  {
   "cell_type": "code",
   "execution_count": 1,
   "id": "3294fd4f",
   "metadata": {},
   "outputs": [],
   "source": [
    "def AND(x1, x2):\n",
    "    w1, w2, theta = 0.5, 0.5, 0.7\n",
    "    tmp = x1 * w1 + x2 * w2\n",
    "    if tmp <= theta:\n",
    "        return 0\n",
    "    else:\n",
    "        return 1"
   ]
  },
  {
   "cell_type": "code",
   "execution_count": 2,
   "id": "86070fe8",
   "metadata": {},
   "outputs": [
    {
     "data": {
      "text/plain": [
       "0"
      ]
     },
     "execution_count": 2,
     "metadata": {},
     "output_type": "execute_result"
    }
   ],
   "source": [
    "AND(0, 0)"
   ]
  },
  {
   "cell_type": "code",
   "execution_count": 3,
   "id": "f67fbd0f",
   "metadata": {},
   "outputs": [
    {
     "data": {
      "text/plain": [
       "0"
      ]
     },
     "execution_count": 3,
     "metadata": {},
     "output_type": "execute_result"
    }
   ],
   "source": [
    "AND(1, 0)"
   ]
  },
  {
   "cell_type": "code",
   "execution_count": 4,
   "id": "c1ac9e4c",
   "metadata": {},
   "outputs": [
    {
     "data": {
      "text/plain": [
       "0"
      ]
     },
     "execution_count": 4,
     "metadata": {},
     "output_type": "execute_result"
    }
   ],
   "source": [
    "AND(0, 1)"
   ]
  },
  {
   "cell_type": "code",
   "execution_count": 5,
   "id": "a9e82045",
   "metadata": {},
   "outputs": [
    {
     "data": {
      "text/plain": [
       "1"
      ]
     },
     "execution_count": 5,
     "metadata": {},
     "output_type": "execute_result"
    }
   ],
   "source": [
    "AND(1, 1)"
   ]
  },
  {
   "cell_type": "code",
   "execution_count": 6,
   "id": "b17bec8f",
   "metadata": {},
   "outputs": [],
   "source": [
    "import numpy as np"
   ]
  },
  {
   "cell_type": "code",
   "execution_count": 7,
   "id": "a18d6f43",
   "metadata": {},
   "outputs": [],
   "source": [
    "def AND(x1, x2): # 선형 -> 단층 퍼셉트론으로 구현 가능함\n",
    "    x = np.array([x1, x2])\n",
    "    w = np.array([0.5, 0.5])\n",
    "    b = -0.7\n",
    "    tmp = np.sum(w*x) + b\n",
    "    if tmp <= 0:\n",
    "        return 0\n",
    "    else:\n",
    "        return 1"
   ]
  },
  {
   "cell_type": "code",
   "execution_count": 8,
   "id": "dde1855a",
   "metadata": {},
   "outputs": [],
   "source": [
    "def NAND(x1, x2): # 선형 -> 단층 퍼셉트론으로 구현 가능함\n",
    "    x = np.array([x1, x2])\n",
    "    w = np.array([-0.5, -0.5])\n",
    "    b = 0.7\n",
    "    tmp = np.sum(w*x) + b\n",
    "    if tmp <= 0:\n",
    "        return 0\n",
    "    else:\n",
    "        return 1"
   ]
  },
  {
   "cell_type": "code",
   "execution_count": 9,
   "id": "d558adc1",
   "metadata": {},
   "outputs": [],
   "source": [
    "def OR(x1, x2): # 선형 -> 단층 퍼셉트론으로 구현 가능함\n",
    "    x = np.array([x1, x2])\n",
    "    w = np.array([0.5, 0.5])\n",
    "    b = -0.2\n",
    "    tmp = np.sum(w*x) + b\n",
    "    if tmp <= 0:\n",
    "        return 0\n",
    "    else:\n",
    "        return 1"
   ]
  },
  {
   "cell_type": "code",
   "execution_count": 10,
   "id": "e4f19505",
   "metadata": {},
   "outputs": [],
   "source": [
    "def XOR(x1, x2): # XOR는 비선형이므로 단층 퍼셉트론으로는 구현할 수 없다 => 다층 퍼셉트론을 활용해야 한다.\n",
    "    s1 = NAND(x1, x2) # 단층 퍼셉트론 하나\n",
    "    s2 = OR(x1, x2) # 단층 퍼셉트론 하나\n",
    "    y = AND(s1, s2) # 다층 퍼셉트론\n",
    "    return y"
   ]
  },
  {
   "cell_type": "code",
   "execution_count": 11,
   "id": "34b953cf",
   "metadata": {},
   "outputs": [
    {
     "data": {
      "text/plain": [
       "0"
      ]
     },
     "execution_count": 11,
     "metadata": {},
     "output_type": "execute_result"
    }
   ],
   "source": [
    "XOR(0, 0)"
   ]
  },
  {
   "cell_type": "code",
   "execution_count": 12,
   "id": "6dd75e62",
   "metadata": {},
   "outputs": [
    {
     "data": {
      "text/plain": [
       "1"
      ]
     },
     "execution_count": 12,
     "metadata": {},
     "output_type": "execute_result"
    }
   ],
   "source": [
    "XOR(1, 0)"
   ]
  },
  {
   "cell_type": "code",
   "execution_count": 13,
   "id": "f1d26d93",
   "metadata": {},
   "outputs": [
    {
     "data": {
      "text/plain": [
       "1"
      ]
     },
     "execution_count": 13,
     "metadata": {},
     "output_type": "execute_result"
    }
   ],
   "source": [
    "XOR(0, 1)"
   ]
  },
  {
   "cell_type": "code",
   "execution_count": 32,
   "id": "ee53cf4b",
   "metadata": {},
   "outputs": [
    {
     "data": {
      "text/plain": [
       "0"
      ]
     },
     "execution_count": 32,
     "metadata": {},
     "output_type": "execute_result"
    }
   ],
   "source": [
    "XOR(1, 1)"
   ]
  },
  {
   "cell_type": "code",
   "execution_count": null,
   "id": "0698ffd9",
   "metadata": {},
   "outputs": [],
   "source": [
    "### 퍼셉트론과 신경망과의 유일한 차이는 활성화함수이다."
   ]
  },
  {
   "cell_type": "code",
   "execution_count": 15,
   "id": "5ddd330a",
   "metadata": {},
   "outputs": [],
   "source": [
    "## 퍼셉트론의 활성화 함수 => 계단함수"
   ]
  },
  {
   "cell_type": "code",
   "execution_count": 16,
   "id": "9d1b2af9",
   "metadata": {},
   "outputs": [],
   "source": [
    "def step_function_fake(x):\n",
    "    if x > 0:\n",
    "        return 1\n",
    "    else:\n",
    "        return 0"
   ]
  },
  {
   "cell_type": "code",
   "execution_count": 27,
   "id": "87442317",
   "metadata": {},
   "outputs": [],
   "source": [
    "def step_function(x):\n",
    "    y = x > 0\n",
    "    return y.astype(np.int32)"
   ]
  },
  {
   "cell_type": "code",
   "execution_count": 28,
   "id": "e5550b17",
   "metadata": {},
   "outputs": [],
   "source": [
    "## 신경망의 활성화 함수 => 계단 함수가 아님(시그모이드 함수, RELU 함수)"
   ]
  },
  {
   "cell_type": "code",
   "execution_count": 29,
   "id": "9f873365",
   "metadata": {},
   "outputs": [],
   "source": [
    "def sigmoid(x):\n",
    "    return 1 / (1 + np.exp(-x))"
   ]
  },
  {
   "cell_type": "code",
   "execution_count": 30,
   "id": "73382717",
   "metadata": {},
   "outputs": [],
   "source": [
    "def relu(x):\n",
    "    return np.maximum(0, x)"
   ]
  },
  {
   "cell_type": "code",
   "execution_count": 31,
   "id": "6dd68003",
   "metadata": {},
   "outputs": [
    {
     "data": {
      "image/png": "[encoded data removed]",
      "text/plain": [
       "<Figure size 640x480 with 1 Axes>"
      ]
     },
     "metadata": {},
     "output_type": "display_data"
    }
   ],
   "source": [
    "import matplotlib.pyplot as plt\n",
    "x = np.arange(-6.0, 6.0, 0.1)\n",
    "y1 = step_function(x)\n",
    "y2 = sigmoid(x)\n",
    "y3 = relu(x)\n",
    "plt.plot(x, y1, label=\"step function_PERCEPTRON\")\n",
    "plt.plot(x, y2, linestyle=\"dashed\",label=\"sigmoid_NEURAL NETWORK\")\n",
    "plt.plot(x, y3, linestyle=\"dotted\", label=\"relu_NEURAL NETWORK\")\n",
    "plt.ylim(-0.1, 1.1)\n",
    "plt.xlabel(\"x\")\n",
    "plt.ylabel(\"y\")\n",
    "plt.title(\"activation_fuction\")\n",
    "plt.legend()\n",
    "plt.show()"
   ]
  }
 ],
 "metadata": {
  "kernelspec": {
   "display_name": "Python 3 (ipykernel)",
   "language": "python",
   "name": "python3"
  },
  "language_info": {
   "codemirror_mode": {
    "name": "ipython",
    "version": 3
   },
   "file_extension": ".py",
   "mimetype": "text/x-python",
   "name": "python",
   "nbconvert_exporter": "python",
   "pygments_lexer": "ipython3",
   "version": "3.9.15"
  }
 },
 "nbformat": 4,
 "nbformat_minor": 5
}
