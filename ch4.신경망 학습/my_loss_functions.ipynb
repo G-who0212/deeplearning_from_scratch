{
 "cells": [
  {
   "cell_type": "code",
   "execution_count": 1,
   "id": "abcfb88f",
   "metadata": {},
   "outputs": [],
   "source": [
    "import numpy as np"
   ]
  },
  {
   "cell_type": "code",
   "execution_count": 2,
   "id": "92623ec8",
   "metadata": {},
   "outputs": [],
   "source": [
    "# 오차제곱합\n",
    "def sum_squares_error(y, t):\n",
    "    return 0.5 * np.sum((y-t)**2)"
   ]
  },
  {
   "cell_type": "code",
   "execution_count": 3,
   "id": "b53472fc",
   "metadata": {},
   "outputs": [],
   "source": [
    "t = [0, 0, 1, 0, 0, 0, 0, 0, 0, 0] # 원-핫 인코딩 (인덱스2가 정답)"
   ]
  },
  {
   "cell_type": "code",
   "execution_count": 4,
   "id": "54694e76",
   "metadata": {},
   "outputs": [
    {
     "data": {
      "text/plain": [
       "0.09750000000000003"
      ]
     },
     "execution_count": 4,
     "metadata": {},
     "output_type": "execute_result"
    }
   ],
   "source": [
    "y = [0.1, 0.05, 0.6, 0.0, 0.05, 0.1, 0.0, 0.1, 0.0, 0.0] # softmax의 결과값 (확률) (인덱스2를 정답이라고 정확하게 추론)\n",
    "sum_squares_error(np.array(y), np.array(t)) # 잘 추론하니, 손실함수의 값이 작다."
   ]
  },
  {
   "cell_type": "code",
   "execution_count": 5,
   "id": "69713625",
   "metadata": {},
   "outputs": [
    {
     "data": {
      "text/plain": [
       "0.5975"
      ]
     },
     "execution_count": 5,
     "metadata": {},
     "output_type": "execute_result"
    }
   ],
   "source": [
    "y = [0.1, 0.05, 0.1, 0.0, 0.05, 0.1, 0.0, 0.6, 0.0, 0.0] # softmax의 결과값 (확률) (인덱스7을 정답이라고 잘못 추론)\n",
    "sum_squares_error(np.array(y), np.array(t)) # 잘못 추론하니, 손실함수의 값이 큰 것을 확인할 수 있음"
   ]
  },
  {
   "cell_type": "code",
   "execution_count": 8,
   "id": "c3c89c3e",
   "metadata": {},
   "outputs": [],
   "source": [
    "# 교차 엔트로피 오차\n",
    "def cross_entropy_error(y, t):\n",
    "    delta = 1e-7\n",
    "    return -np.sum(t * np.log(y + delta))"
   ]
  },
  {
   "cell_type": "code",
   "execution_count": 9,
   "id": "6501e015",
   "metadata": {},
   "outputs": [
    {
     "data": {
      "text/plain": [
       "0.510825457099338"
      ]
     },
     "execution_count": 9,
     "metadata": {},
     "output_type": "execute_result"
    }
   ],
   "source": [
    "y = [0.1, 0.05, 0.6, 0.0, 0.05, 0.1, 0.0, 0.1, 0.0, 0.0] # softmax의 결과값 (확률) (인덱스2를 정답이라고 정확하게 추론)\n",
    "cross_entropy_error(np.array(y), np.array(t)) # 잘 추론하니, 손실함수의 값이 작다."
   ]
  },
  {
   "cell_type": "code",
   "execution_count": 10,
   "id": "201db9b4",
   "metadata": {},
   "outputs": [
    {
     "data": {
      "text/plain": [
       "2.302584092994546"
      ]
     },
     "execution_count": 10,
     "metadata": {},
     "output_type": "execute_result"
    }
   ],
   "source": [
    "y = [0.1, 0.05, 0.1, 0.0, 0.05, 0.1, 0.0, 0.6, 0.0, 0.0] # softmax의 결과값 (확률) (인덱스7을 정답이라고 잘못 추론)\n",
    "cross_entropy_error(np.array(y), np.array(t)) # 잘못 추론하니, 손실함수의 값이 크다."
   ]
  }
 ],
 "metadata": {
  "kernelspec": {
   "display_name": "Python 3 (ipykernel)",
   "language": "python",
   "name": "python3"
  },
  "language_info": {
   "codemirror_mode": {
    "name": "ipython",
    "version": 3
   },
   "file_extension": ".py",
   "mimetype": "text/x-python",
   "name": "python",
   "nbconvert_exporter": "python",
   "pygments_lexer": "ipython3",
   "version": "3.9.13"
  }
 },
 "nbformat": 4,
 "nbformat_minor": 5
}
